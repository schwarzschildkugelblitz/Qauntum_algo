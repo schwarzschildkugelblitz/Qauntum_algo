{
 "cells": [
  {
   "cell_type": "markdown",
   "id": "postal-story",
   "metadata": {},
   "source": [
    "# Durr and Høyer Algorithm \n",
    "### By Harshit Batra \n",
    "Introduction \n",
    "\n",
    "Durr and Høyer Algorithm is O(√N) time probabilistic quatum algorithm for finding minimum / smallest element in given array using Grover search \n"
   ]
  },
  {
   "cell_type": "code",
   "execution_count": 11,
   "id": "abandoned-trading",
   "metadata": {},
   "outputs": [],
   "source": [
    "# importing modules \n",
    "from qiskit import *\n",
    "import math\n",
    "import numpy as np \n",
    "import random "
   ]
  },
  {
   "cell_type": "code",
   "execution_count": 12,
   "id": "electrical-harris",
   "metadata": {},
   "outputs": [],
   "source": [
    "def initialize(n,circuit): \n",
    "    \"\"\"Applying H gate to all qubit\"\"\"\n",
    "    for i in range(0,n):\n",
    "        circuit.h(q[i])\n",
    "    return circuit"
   ]
  },
  {
   "cell_type": "code",
   "execution_count": 13,
   "id": "final-uruguay",
   "metadata": {},
   "outputs": [],
   "source": [
    "def markingoracle(circuit,arr,index ):\n",
    "    \"\"\" Function to Marsk all states Less than Array [index]\"\"\"\n",
    "    flag = False \n",
    "    for i in range(int(len(arr))):\n",
    "        if arr[i] < arr[index]:\n",
    "            flag = True \n",
    "            binary = \"{0:b}\".format(i)\n",
    "            bianry = binary[::-1]\n",
    "            for j in range(0, len(binary)) :\n",
    "                 if binary[j] == \"1\":\n",
    "                        circuit.z(q(j))      \n",
    "    return circuit , flag "
   ]
  },
  {
   "cell_type": "code",
   "execution_count": 14,
   "id": "communist-direction",
   "metadata": {},
   "outputs": [],
   "source": [
    "def Oracle(circuit , arr, index ) :\n",
    "    \"\"\"oracle for grover search\"\"\"\n",
    "    for i in range(0,int(len(arr))):\n",
    "        if arr[i] < index :\n",
    "            binary = \"{0:b}\".format(i)\n",
    "            binary = binary[::-1]\n",
    "            for j in range(0, len(binary)) :\n",
    "                 if binary[j] == \"1\":\n",
    "                        circuit = circuit.c(q[j])\n",
    "    return circuit "
   ]
  },
  {
   "cell_type": "code",
   "execution_count": 15,
   "id": "greek-punishment",
   "metadata": {},
   "outputs": [],
   "source": [
    "def diffuser (n, circuit ):\n",
    "    for i in range(n):\n",
    "        circuit.h(q[i])\n",
    "    for qubit in range(n):\n",
    "        circuit.x(q[i])\n",
    "    circuit.h(q[n-1])\n",
    "    circuit.mct(list(range(n-1)), n-1) \n",
    "    circuit.h(q[n-1])\n",
    "    for i in range(n):\n",
    "        circuit.x(i)\n",
    "    for i in range(n):\n",
    "        circuit.h(i)\n",
    "    return circuit "
   ]
  },
  {
   "cell_type": "markdown",
   "id": "spanish-queue",
   "metadata": {},
   "source": [
    "exponetial search \n",
    "ref - https://arxiv.org/pdf/quant-ph/9605034.pdf"
   ]
  },
  {
   "cell_type": "code",
   "execution_count": 16,
   "id": "secure-daughter",
   "metadata": {},
   "outputs": [],
   "source": [
    "def exponential_search(circuit,arr,index,backend):\n",
    "    m = 1\n",
    "    while True:\n",
    "        j = random.randint(0,int(m)) \n",
    "        i = Grover_Search(circuit,j,index,backend)\n",
    "        if arr[i] > arr[index]:\n",
    "            m = min(6/5*m,math.sqrt(len(arr)))\n",
    "        else:\n",
    "            break\n",
    "    return i"
   ]
  },
  {
   "cell_type": "code",
   "execution_count": 17,
   "id": "rocky-quantity",
   "metadata": {},
   "outputs": [],
   "source": [
    "def Grover_Search(circuit , j , index ,backend ):\n",
    "    q1 = QuantumRegister(4 , 'q1')\n",
    "    c1 = ClassicalRegister(4 , 'c1')\n",
    "    circuit1 = QuantumCircuit(q1 , c1)\n",
    "    circuit1 = circuit.copy()\n",
    "    for _ in range(0,j):\n",
    "        circuit1 = diffuser(4,circuit1)\n",
    "    circuit1.inverse()\n",
    "    circuit1.measure(q, c)\n",
    "    job=execute(circuit1,backend,shots=1,memory=True)\n",
    "    result=job.result()\n",
    "    counts=result.get_memory(circuit1)\n",
    "    #print(counts)\n",
    "    return int (counts[0],2)\n",
    "    \n",
    "    "
   ]
  },
  {
   "cell_type": "code",
   "execution_count": 18,
   "id": "alike-penalty",
   "metadata": {},
   "outputs": [],
   "source": [
    "def durr_and_hoyer_algorithm (arr ,circuit, q , n,backend) :\n",
    "     \n",
    "    #randomly selecting an index\n",
    "    index=random.randint(0,15)\n",
    "    \n",
    "    for i in range (0, int(22.5*math.sqrt(n)+1.4*(math.log(n,2))**2)+1):\n",
    "        circuit = initialize(n,circuit)\n",
    "        circuit ,flag = markingoracle(circuit,arr,index )\n",
    "        if flag :\n",
    "            index = exponential_search(circuit,arr,index,backend)\n",
    "        else:\n",
    "            break\n",
    "    return index \n",
    "        \n",
    "    "
   ]
  },
  {
   "cell_type": "code",
   "execution_count": 19,
   "id": "cosmetic-rainbow",
   "metadata": {},
   "outputs": [],
   "source": [
    "# intializing Quantum and Classical register\n",
    "backend =BasicAer.get_backend('qasm_simulator')\n",
    "n = 4\n",
    "\n",
    "q = QuantumRegister(n , 'q')\n",
    "\n",
    "c = ClassicalRegister(n , 'c')\n",
    "\n",
    "circuit = QuantumCircuit(q , c)"
   ]
  },
  {
   "cell_type": "code",
   "execution_count": 20,
   "id": "smaller-photograph",
   "metadata": {},
   "outputs": [
    {
     "name": "stdout",
     "output_type": "stream",
     "text": [
      "[5149 2530 8144 5651 7880 8215 3822 1666 9435 5658 7139 3914 1349 9638\n",
      " 7016 9738]\n",
      "12\n"
     ]
    }
   ],
   "source": [
    "# generating a random array of size 16\n",
    "arr=np.random.randint(1,10000,16) \n",
    "print(arr)\n",
    "min_index = durr_and_hoyer_algorithm (arr,circuit, q  , n ,backend)\n",
    "print(min_index)"
   ]
  }
 ],
 "metadata": {
  "kernelspec": {
   "display_name": "Python 3 (ipykernel)",
   "language": "python",
   "name": "python3"
  },
  "language_info": {
   "codemirror_mode": {
    "name": "ipython",
    "version": 3
   },
   "file_extension": ".py",
   "mimetype": "text/x-python",
   "name": "python",
   "nbconvert_exporter": "python",
   "pygments_lexer": "ipython3",
   "version": "3.9.7"
  }
 },
 "nbformat": 4,
 "nbformat_minor": 5
}
